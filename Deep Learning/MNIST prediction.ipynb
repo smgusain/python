{
 "cells": [
  {
   "cell_type": "markdown",
   "id": "3300d69d",
   "metadata": {},
   "source": [
    "**Importing the dataset**"
   ]
  },
  {
   "cell_type": "code",
   "execution_count": 1,
   "id": "007f07ac",
   "metadata": {},
   "outputs": [],
   "source": [
    "from tensorflow.keras.datasets import mnist\n",
    "(train_images,train_labels),(test_images,test_labels) = mnist.load_data()\n"
   ]
  },
  {
   "cell_type": "markdown",
   "id": "78a4e75d",
   "metadata": {},
   "source": [
    "**Building the network**"
   ]
  },
  {
   "cell_type": "code",
   "execution_count": 2,
   "id": "255a1004",
   "metadata": {},
   "outputs": [],
   "source": [
    "from tensorflow import keras\n",
    "from tensorflow.keras import layers\n",
    "model = keras.Sequential([\n",
    "    layers.Dense(512,activation = \"relu\"),\n",
    "    layers.Dense(10, activation = \"softmax\")    \n",
    "])"
   ]
  },
  {
   "cell_type": "code",
   "execution_count": 3,
   "id": "1ca7bc0c",
   "metadata": {},
   "outputs": [],
   "source": [
    "model.compile(\n",
    "    optimizer = \"rmsprop\",\n",
    "    loss = \"sparse_categorical_crossentropy\",\n",
    "    metrics = [\"accuracy\"]\n",
    ")"
   ]
  },
  {
   "cell_type": "markdown",
   "id": "f5aa2283",
   "metadata": {},
   "source": [
    "**Reshaping the image data and changing its data type and values in [0,1]**"
   ]
  },
  {
   "cell_type": "code",
   "execution_count": 4,
   "id": "b816945d",
   "metadata": {},
   "outputs": [],
   "source": [
    "train_images = train_images.reshape((60000, 28*28))\n",
    "train_imagese = train_images.astype(\"float32\")/255\n",
    "\n",
    "test_images = test_images.reshape((10000, 28*28))\n",
    "test_imagese = test_images.astype(\"float32\")/255"
   ]
  },
  {
   "cell_type": "markdown",
   "id": "6559e443",
   "metadata": {},
   "source": [
    "**Fitting the model**"
   ]
  },
  {
   "cell_type": "code",
   "execution_count": 5,
   "id": "894a697d",
   "metadata": {
    "scrolled": true
   },
   "outputs": [
    {
     "name": "stdout",
     "output_type": "stream",
     "text": [
      "Epoch 1/5\n",
      "469/469 [==============================] - 4s 7ms/step - loss: 5.5934 - accuracy: 0.8998\n",
      "Epoch 2/5\n",
      "469/469 [==============================] - 4s 8ms/step - loss: 0.6513 - accuracy: 0.9529\n",
      "Epoch 3/5\n",
      "469/469 [==============================] - 3s 7ms/step - loss: 0.4634 - accuracy: 0.9645\n",
      "Epoch 4/5\n",
      "469/469 [==============================] - 4s 7ms/step - loss: 0.3622 - accuracy: 0.9722\n",
      "Epoch 5/5\n",
      "469/469 [==============================] - 3s 7ms/step - loss: 0.3216 - accuracy: 0.9755\n"
     ]
    },
    {
     "data": {
      "text/plain": [
       "<keras.callbacks.History at 0x1a4ab52b400>"
      ]
     },
     "execution_count": 5,
     "metadata": {},
     "output_type": "execute_result"
    }
   ],
   "source": [
    "model.fit(train_images, train_labels, epochs = 5, batch_size = 128)"
   ]
  },
  {
   "cell_type": "code",
   "execution_count": 6,
   "id": "90228660",
   "metadata": {},
   "outputs": [],
   "source": [
    "test_digits = test_images[0:10]"
   ]
  },
  {
   "cell_type": "markdown",
   "id": "7cc55950",
   "metadata": {},
   "source": [
    "**Model prediction**"
   ]
  },
  {
   "cell_type": "code",
   "execution_count": 7,
   "id": "6b2b91e9",
   "metadata": {
    "scrolled": true
   },
   "outputs": [
    {
     "name": "stdout",
     "output_type": "stream",
     "text": [
      "1/1 [==============================] - 0s 68ms/step\n"
     ]
    }
   ],
   "source": [
    "pred = model.predict(test_digits)"
   ]
  },
  {
   "cell_type": "code",
   "execution_count": 8,
   "id": "22945ae6",
   "metadata": {},
   "outputs": [
    {
     "data": {
      "text/plain": [
       "array([0., 0., 0., 0., 0., 0., 0., 1., 0., 0.], dtype=float32)"
      ]
     },
     "execution_count": 8,
     "metadata": {},
     "output_type": "execute_result"
    }
   ],
   "source": [
    "pred[0]"
   ]
  },
  {
   "cell_type": "code",
   "execution_count": 9,
   "id": "e3abbc20",
   "metadata": {},
   "outputs": [
    {
     "data": {
      "text/plain": [
       "array([0.0000000e+00, 3.1046998e-27, 1.0000000e+00, 5.7269918e-36,\n",
       "       0.0000000e+00, 0.0000000e+00, 0.0000000e+00, 0.0000000e+00,\n",
       "       0.0000000e+00, 0.0000000e+00], dtype=float32)"
      ]
     },
     "execution_count": 9,
     "metadata": {},
     "output_type": "execute_result"
    }
   ],
   "source": [
    "pred[1]"
   ]
  },
  {
   "cell_type": "code",
   "execution_count": 10,
   "id": "65af1360",
   "metadata": {
    "scrolled": true
   },
   "outputs": [
    {
     "data": {
      "text/plain": [
       "array([0.0000000e+00, 0.0000000e+00, 0.0000000e+00, 0.0000000e+00,\n",
       "       7.7858277e-19, 1.0000000e+00, 1.8804917e-25, 0.0000000e+00,\n",
       "       2.7908603e-19, 5.4742579e-25], dtype=float32)"
      ]
     },
     "execution_count": 10,
     "metadata": {},
     "output_type": "execute_result"
    }
   ],
   "source": [
    "pred[8]"
   ]
  },
  {
   "cell_type": "code",
   "execution_count": 11,
   "id": "a7a15e26",
   "metadata": {},
   "outputs": [
    {
     "data": {
      "text/plain": [
       "5"
      ]
     },
     "execution_count": 11,
     "metadata": {},
     "output_type": "execute_result"
    }
   ],
   "source": [
    "#Returning the index with highest probabilty\n",
    "pred[8].argmax()"
   ]
  },
  {
   "cell_type": "markdown",
   "id": "a8f25157",
   "metadata": {},
   "source": [
    "_This means that the image is most probably of index 6, i.e the digit 6_ "
   ]
  },
  {
   "cell_type": "markdown",
   "id": "626b94dc",
   "metadata": {},
   "source": [
    "**Evaluating accuracy**"
   ]
  },
  {
   "cell_type": "code",
   "execution_count": 12,
   "id": "2825e54a",
   "metadata": {},
   "outputs": [
    {
     "name": "stdout",
     "output_type": "stream",
     "text": [
      "313/313 [==============================] - 1s 3ms/step - loss: 0.7114 - accuracy: 0.9593\n",
      "Test accuracy:  0.9592999815940857\n"
     ]
    }
   ],
   "source": [
    "test_loss,test_acc = model.evaluate(test_images,test_labels)\n",
    "print(\"Test accuracy: \", test_acc)"
   ]
  },
  {
   "cell_type": "markdown",
   "id": "0460a993",
   "metadata": {},
   "source": [
    "_As we can see, the test accuracy (95.6%) is less than train_accuracy (97.5%)_"
   ]
  }
 ],
 "metadata": {
  "kernelspec": {
   "display_name": "Python 3 (ipykernel)",
   "language": "python",
   "name": "python3"
  },
  "language_info": {
   "codemirror_mode": {
    "name": "ipython",
    "version": 3
   },
   "file_extension": ".py",
   "mimetype": "text/x-python",
   "name": "python",
   "nbconvert_exporter": "python",
   "pygments_lexer": "ipython3",
   "version": "3.10.5"
  }
 },
 "nbformat": 4,
 "nbformat_minor": 5
}
